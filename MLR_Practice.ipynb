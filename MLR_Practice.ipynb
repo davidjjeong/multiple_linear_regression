{
  "nbformat": 4,
  "nbformat_minor": 0,
  "metadata": {
    "colab": {
      "name": "MLR_Practice.ipynb",
      "provenance": [],
      "collapsed_sections": [],
      "mount_file_id": "1UR_gDlGnJKPEvoHAkqYxGU-NgNUmmf0m",
      "authorship_tag": "ABX9TyOpRz8NZ0Qf7QBab3FT/4pv",
      "include_colab_link": true
    },
    "kernelspec": {
      "name": "python3",
      "display_name": "Python 3"
    },
    "language_info": {
      "name": "python"
    }
  },
  "cells": [
    {
      "cell_type": "markdown",
      "metadata": {
        "id": "view-in-github",
        "colab_type": "text"
      },
      "source": [
        "<a href=\"https://colab.research.google.com/github/davidjjeong/multiple_linear_regression/blob/main/MLR_Practice.ipynb\" target=\"_parent\"><img src=\"https://colab.research.google.com/assets/colab-badge.svg\" alt=\"Open In Colab\"/></a>"
      ]
    },
    {
      "cell_type": "code",
      "source": [
        "from google.colab import drive\n",
        "drive.mount('/content/drive')"
      ],
      "metadata": {
        "colab": {
          "base_uri": "https://localhost:8080/"
        },
        "id": "MK8-tcIsHmZJ",
        "outputId": "22fab2e2-80b8-48e0-f2ae-340ef9d3fdad"
      },
      "execution_count": 56,
      "outputs": [
        {
          "output_type": "stream",
          "name": "stdout",
          "text": [
            "Drive already mounted at /content/drive; to attempt to forcibly remount, call drive.mount(\"/content/drive\", force_remount=True).\n"
          ]
        }
      ]
    },
    {
      "cell_type": "code",
      "execution_count": 2,
      "metadata": {
        "colab": {
          "base_uri": "https://localhost:8080/"
        },
        "id": "J00fboXy_1zc",
        "outputId": "f082f44a-f9d3-4833-bd7b-aa069f17f096"
      },
      "outputs": [
        {
          "output_type": "stream",
          "name": "stdout",
          "text": [
            "Requirement already satisfied: seaborn in /usr/local/lib/python3.7/dist-packages (0.11.2)\n",
            "Collecting watermark\n",
            "  Downloading watermark-2.3.0-py2.py3-none-any.whl (7.2 kB)\n",
            "Requirement already satisfied: matplotlib>=2.2 in /usr/local/lib/python3.7/dist-packages (from seaborn) (3.2.2)\n",
            "Requirement already satisfied: numpy>=1.15 in /usr/local/lib/python3.7/dist-packages (from seaborn) (1.21.6)\n",
            "Requirement already satisfied: scipy>=1.0 in /usr/local/lib/python3.7/dist-packages (from seaborn) (1.4.1)\n",
            "Requirement already satisfied: pandas>=0.23 in /usr/local/lib/python3.7/dist-packages (from seaborn) (1.3.5)\n",
            "Requirement already satisfied: python-dateutil>=2.1 in /usr/local/lib/python3.7/dist-packages (from matplotlib>=2.2->seaborn) (2.8.2)\n",
            "Requirement already satisfied: pyparsing!=2.0.4,!=2.1.2,!=2.1.6,>=2.0.1 in /usr/local/lib/python3.7/dist-packages (from matplotlib>=2.2->seaborn) (3.0.9)\n",
            "Requirement already satisfied: kiwisolver>=1.0.1 in /usr/local/lib/python3.7/dist-packages (from matplotlib>=2.2->seaborn) (1.4.2)\n",
            "Requirement already satisfied: cycler>=0.10 in /usr/local/lib/python3.7/dist-packages (from matplotlib>=2.2->seaborn) (0.11.0)\n",
            "Requirement already satisfied: typing-extensions in /usr/local/lib/python3.7/dist-packages (from kiwisolver>=1.0.1->matplotlib>=2.2->seaborn) (4.2.0)\n",
            "Requirement already satisfied: pytz>=2017.3 in /usr/local/lib/python3.7/dist-packages (from pandas>=0.23->seaborn) (2022.1)\n",
            "Requirement already satisfied: six>=1.5 in /usr/local/lib/python3.7/dist-packages (from python-dateutil>=2.1->matplotlib>=2.2->seaborn) (1.15.0)\n",
            "Requirement already satisfied: ipython in /usr/local/lib/python3.7/dist-packages (from watermark) (5.5.0)\n",
            "Collecting importlib-metadata<3.0\n",
            "  Downloading importlib_metadata-2.1.3-py2.py3-none-any.whl (10 kB)\n",
            "Requirement already satisfied: zipp>=0.5 in /usr/local/lib/python3.7/dist-packages (from importlib-metadata<3.0->watermark) (3.8.0)\n",
            "Requirement already satisfied: decorator in /usr/local/lib/python3.7/dist-packages (from ipython->watermark) (4.4.2)\n",
            "Requirement already satisfied: prompt-toolkit<2.0.0,>=1.0.4 in /usr/local/lib/python3.7/dist-packages (from ipython->watermark) (1.0.18)\n",
            "Requirement already satisfied: pexpect in /usr/local/lib/python3.7/dist-packages (from ipython->watermark) (4.8.0)\n",
            "Requirement already satisfied: simplegeneric>0.8 in /usr/local/lib/python3.7/dist-packages (from ipython->watermark) (0.8.1)\n",
            "Requirement already satisfied: pygments in /usr/local/lib/python3.7/dist-packages (from ipython->watermark) (2.6.1)\n",
            "Requirement already satisfied: pickleshare in /usr/local/lib/python3.7/dist-packages (from ipython->watermark) (0.7.5)\n",
            "Requirement already satisfied: setuptools>=18.5 in /usr/local/lib/python3.7/dist-packages (from ipython->watermark) (57.4.0)\n",
            "Requirement already satisfied: traitlets>=4.2 in /usr/local/lib/python3.7/dist-packages (from ipython->watermark) (5.2.0)\n",
            "Requirement already satisfied: wcwidth in /usr/local/lib/python3.7/dist-packages (from prompt-toolkit<2.0.0,>=1.0.4->ipython->watermark) (0.2.5)\n",
            "Requirement already satisfied: ptyprocess>=0.5 in /usr/local/lib/python3.7/dist-packages (from pexpect->ipython->watermark) (0.7.0)\n",
            "Installing collected packages: importlib-metadata, watermark\n",
            "  Attempting uninstall: importlib-metadata\n",
            "    Found existing installation: importlib-metadata 4.11.3\n",
            "    Uninstalling importlib-metadata-4.11.3:\n",
            "      Successfully uninstalled importlib-metadata-4.11.3\n",
            "\u001b[31mERROR: pip's dependency resolver does not currently take into account all the packages that are installed. This behaviour is the source of the following dependency conflicts.\n",
            "markdown 3.3.7 requires importlib-metadata>=4.4; python_version < \"3.10\", but you have importlib-metadata 2.1.3 which is incompatible.\u001b[0m\n",
            "Successfully installed importlib-metadata-2.1.3 watermark-2.3.0\n"
          ]
        }
      ],
      "source": [
        "! pip install seaborn watermark"
      ]
    },
    {
      "cell_type": "code",
      "source": [
        "import warnings\n",
        "warnings.filterwarnings('ignore')"
      ],
      "metadata": {
        "id": "snKL12dZDB5Z"
      },
      "execution_count": 3,
      "outputs": []
    },
    {
      "cell_type": "code",
      "source": [
        "import os\n",
        "import pandas as pd\n",
        "import numpy as np\n",
        "from sklearn.model_selection import train_test_split\n",
        "from sklearn import metrics\n",
        "from sklearn.datasets import fetch_california_housing\n",
        "from sklearn.metrics import mean_squared_error, r2_score, mean_absolute_error\n",
        "import scipy.stats as stats\n",
        "import scipy as sp\n",
        "import itertools\n",
        "import time\n",
        "import matplotlib.pyplot as plt\n",
        "import matplotlib.font_manager as fm\n",
        "import statsmodels.api as sm\n",
        "import statsmodels.formula.api as smf\n",
        "import seaborn as sns\n",
        "import pylab\n",
        "\n",
        "# 한글 폰트 설정\n",
        "plt.rc('font', family='Malgun Gothic')"
      ],
      "metadata": {
        "id": "fNj3pSkqDk-m"
      },
      "execution_count": 11,
      "outputs": []
    },
    {
      "cell_type": "markdown",
      "source": [
        "**Practice Example 1: Ram Price Dataset**\n",
        "\n",
        "Data Structure:\n",
        "\n",
        "* Data: Change in Ram Price from 1957 to 2015\n",
        "* Observations: 333\n",
        "* Explanatory Variable: Year\n",
        "* Response Variable: Price\n",
        "\n"
      ],
      "metadata": {
        "id": "YskPLe37Ete_"
      }
    },
    {
      "cell_type": "code",
      "source": [
        "# Load ram_prices data\n",
        "ram_prices = pd.read_csv('/content/drive/MyDrive/MLR/data/ram_price.csv')\n",
        "print(ram_prices)\n",
        "type(ram_prices)\n",
        "\n",
        "# Plot the observations in the data, with log scaling on the y-axis\n",
        "plt.semilogy(ram_prices.date, ram_prices.price)\n",
        "plt.xlabel(\"Year\")\n",
        "plt.ylabel(\"Ram Price($ per Megabyte)\")"
      ],
      "metadata": {
        "colab": {
          "base_uri": "https://localhost:8080/",
          "height": 554
        },
        "id": "nQhorw_rE6DX",
        "outputId": "787296e7-923c-4948-dcc8-4b5220b279ba"
      },
      "execution_count": 5,
      "outputs": [
        {
          "output_type": "stream",
          "name": "stdout",
          "text": [
            "     Unnamed: 0     date         price\n",
            "0             0  1957.00  4.110418e+08\n",
            "1             1  1959.00  6.794772e+07\n",
            "2             2  1960.00  5.242880e+06\n",
            "3             3  1965.00  2.642412e+06\n",
            "4             4  1970.00  7.340030e+05\n",
            "..          ...      ...           ...\n",
            "328         328  2015.58  4.500000e-03\n",
            "329         329  2015.67  4.300000e-03\n",
            "330         330  2015.75  4.200000e-03\n",
            "331         331  2015.83  3.800000e-03\n",
            "332         332  2015.92  3.700000e-03\n",
            "\n",
            "[333 rows x 3 columns]\n"
          ]
        },
        {
          "output_type": "execute_result",
          "data": {
            "text/plain": [
              "Text(0, 0.5, 'Ram Price($ per Megabyte)')"
            ]
          },
          "metadata": {},
          "execution_count": 5
        },
        {
          "output_type": "display_data",
          "data": {
            "text/plain": [
              "<Figure size 432x288 with 1 Axes>"
            ],
            "image/png": "[encoded data removed]"
          },
          "metadata": {
            "needs_background": "light"
          }
        }
      ]
    },
    {
      "cell_type": "code",
      "source": [
        "plt.plot(ram_prices.date, ram_prices.price, '--')\n",
        "plt.xlabel(\"Year\")\n",
        "plt.ylabel(\"Raw Ram Price\")"
      ],
      "metadata": {
        "colab": {
          "base_uri": "https://localhost:8080/",
          "height": 308
        },
        "id": "k05-x--uKpqp",
        "outputId": "26d5c82a-3c1b-4a47-e842-20f617c01339"
      },
      "execution_count": 6,
      "outputs": [
        {
          "output_type": "execute_result",
          "data": {
            "text/plain": [
              "Text(0, 0.5, 'Raw Ram Price')"
            ]
          },
          "metadata": {},
          "execution_count": 6
        },
        {
          "output_type": "display_data",
          "data": {
            "text/plain": [
              "<Figure size 432x288 with 1 Axes>"
            ],
            "image/png": "[encoded data removed]"
          },
          "metadata": {
            "needs_background": "light"
          }
        }
      ]
    },
    {
      "cell_type": "code",
      "source": [
        "from sklearn.linear_model import LinearRegression"
      ],
      "metadata": {
        "id": "9qtpuVxmMdxb"
      },
      "execution_count": 7,
      "outputs": []
    },
    {
      "cell_type": "code",
      "source": [
        "# Training: Before 2000\n",
        "# Test: After 2000\n",
        "data_train = ram_prices[ram_prices.date < 2000]\n",
        "data_test = ram_prices[ram_prices.date >= 2000]\n",
        "\n",
        "# Only use date for X variable, and slice the vector\n",
        "X_train = data_train.date[:, np.newaxis]\n",
        "\n",
        "# Change y to log scale to create a linear relationship between X and Y\n",
        "y_train = np.log(data_train.price)\n",
        "\n",
        "# Train the MLR model\n",
        "linear_reg = LinearRegression().fit(X_train, y_train)\n",
        "\n",
        "# Predict for all periods from 1957 to 2015\n",
        "X_all = ram_prices.date[:, np.newaxis]\n",
        "\n",
        "pred_lr = linear_reg.predict(X_all)\n",
        "\n",
        "# Change from log scale to real raw price\n",
        "price_lr = np.exp(pred_lr)"
      ],
      "metadata": {
        "id": "de9oGKG6Mie7"
      },
      "execution_count": 8,
      "outputs": []
    },
    {
      "cell_type": "code",
      "source": [
        "plt.semilogy(data_train.date, data_train.price, label=\"Training Data\")\n",
        "plt.semilogy(data_test.date, data_test.price, label=\"Test Data\")\n",
        "plt.semilogy(ram_prices.date, price_lr, label=\"Linear Regression Prediction\")\n",
        "plt.legend()\n",
        "plt.xlabel(\"Year\")\n",
        "plt.ylabel(\"Ram Price in Log Scale\")"
      ],
      "metadata": {
        "colab": {
          "base_uri": "https://localhost:8080/",
          "height": 297
        },
        "id": "DY_jxWJ1QVgg",
        "outputId": "cae59657-538e-4c07-fa3c-29852a92cfa0"
      },
      "execution_count": 9,
      "outputs": [
        {
          "output_type": "execute_result",
          "data": {
            "text/plain": [
              "Text(0, 0.5, 'Ram Price in Log Scale')"
            ]
          },
          "metadata": {},
          "execution_count": 9
        },
        {
          "output_type": "display_data",
          "data": {
            "text/plain": [
              "<Figure size 432x288 with 1 Axes>"
            ],
            "image/png": "[encoded data removed]"
          },
          "metadata": {
            "needs_background": "light"
          }
        }
      ]
    },
    {
      "cell_type": "code",
      "source": [
        "# Check Linear Reg Coefficient\n",
        "linear_reg.coef_\n",
        "print('연도에 따른 회귀계수 (로그변환): ', linear_reg.coef_)"
      ],
      "metadata": {
        "colab": {
          "base_uri": "https://localhost:8080/"
        },
        "id": "-QSTVLw3RLxX",
        "outputId": "77cc5458-4df8-423b-e6ff-3992fc5d1c8c"
      },
      "execution_count": 10,
      "outputs": [
        {
          "output_type": "stream",
          "name": "stdout",
          "text": [
            "연도에 따른 회귀계수 (로그변환):  [-0.42880156]\n"
          ]
        }
      ]
    },
    {
      "cell_type": "markdown",
      "source": [
        "**Practice Example 2: California Housing Dataset**\n",
        "\n",
        "Data Structure:\n",
        "\n",
        "* Data: 1990 Housing Price of Each District Within California\n",
        "* Observations: 20640\n",
        "* Explanatory Variables: 8\n",
        "  * MedInc: 행정 구역 내 소득의 중앙값\n",
        "  * HouseAge: 행정 구역 내 주택 연식의 중앙값\n",
        "  * AveRooms: 평균 방 갯수\n",
        "  * AveBedrms: 평균 침실 갯수\n",
        "  * Population: 행정 구역 내 인구 수\n",
        "  * AveOccup: 평균 자가 비율\n",
        "  * Latitude: 해당 행정 구역의 위도\n",
        "  * Longitude: 해당 행정 구역의 경도\n",
        "* Response Variable: 1 (Housing Price)"
      ],
      "metadata": {
        "id": "a-UwzjxWvHgP"
      }
    },
    {
      "cell_type": "code",
      "source": [
        "california = fetch_california_housing()\n",
        "print(california.DESCR)"
      ],
      "metadata": {
        "colab": {
          "base_uri": "https://localhost:8080/"
        },
        "id": "7CO4C5-BowA0",
        "outputId": "756b2d98-472d-494c-a6c6-f7051922d156"
      },
      "execution_count": 13,
      "outputs": [
        {
          "output_type": "stream",
          "name": "stdout",
          "text": [
            ".. _california_housing_dataset:\n",
            "\n",
            "California Housing dataset\n",
            "--------------------------\n",
            "\n",
            "**Data Set Characteristics:**\n",
            "\n",
            "    :Number of Instances: 20640\n",
            "\n",
            "    :Number of Attributes: 8 numeric, predictive attributes and the target\n",
            "\n",
            "    :Attribute Information:\n",
            "        - MedInc        median income in block group\n",
            "        - HouseAge      median house age in block group\n",
            "        - AveRooms      average number of rooms per household\n",
            "        - AveBedrms     average number of bedrooms per household\n",
            "        - Population    block group population\n",
            "        - AveOccup      average number of household members\n",
            "        - Latitude      block group latitude\n",
            "        - Longitude     block group longitude\n",
            "\n",
            "    :Missing Attribute Values: None\n",
            "\n",
            "This dataset was obtained from the StatLib repository.\n",
            "https://www.dcc.fc.up.pt/~ltorgo/Regression/cal_housing.html\n",
            "\n",
            "The target variable is the median house value for California districts,\n",
            "expressed in hundreds of thousands of dollars ($100,000).\n",
            "\n",
            "This dataset was derived from the 1990 U.S. census, using one row per census\n",
            "block group. A block group is the smallest geographical unit for which the U.S.\n",
            "Census Bureau publishes sample data (a block group typically has a population\n",
            "of 600 to 3,000 people).\n",
            "\n",
            "An household is a group of people residing within a home. Since the average\n",
            "number of rooms and bedrooms in this dataset are provided per household, these\n",
            "columns may take surpinsingly large values for block groups with few households\n",
            "and many empty houses, such as vacation resorts.\n",
            "\n",
            "It can be downloaded/loaded using the\n",
            ":func:`sklearn.datasets.fetch_california_housing` function.\n",
            "\n",
            ".. topic:: References\n",
            "\n",
            "    - Pace, R. Kelley and Ronald Barry, Sparse Spatial Autoregressions,\n",
            "      Statistics and Probability Letters, 33 (1997) 291-297\n",
            "\n"
          ]
        }
      ]
    },
    {
      "cell_type": "code",
      "source": [
        "X = pd.DataFrame(california.data, columns=california.feature_names)\n",
        "y = pd.DataFrame(california.target, columns=['Housing Price'])"
      ],
      "metadata": {
        "id": "vel49F3Oq6WB"
      },
      "execution_count": 19,
      "outputs": []
    },
    {
      "cell_type": "code",
      "source": [
        "X"
      ],
      "metadata": {
        "colab": {
          "base_uri": "https://localhost:8080/",
          "height": 424
        },
        "id": "rGB5aVqGr1y0",
        "outputId": "e953e966-b1a4-4dd9-e2e6-c7b2ae4d47cf"
      },
      "execution_count": 21,
      "outputs": [
        {
          "output_type": "execute_result",
          "data": {
            "text/plain": [
              "       MedInc  HouseAge  AveRooms  AveBedrms  Population  AveOccup  Latitude  \\\n",
              "0      8.3252      41.0  6.984127   1.023810       322.0  2.555556     37.88   \n",
              "1      8.3014      21.0  6.238137   0.971880      2401.0  2.109842     37.86   \n",
              "2      7.2574      52.0  8.288136   1.073446       496.0  2.802260     37.85   \n",
              "3      5.6431      52.0  5.817352   1.073059       558.0  2.547945     37.85   \n",
              "4      3.8462      52.0  6.281853   1.081081       565.0  2.181467     37.85   \n",
              "...       ...       ...       ...        ...         ...       ...       ...   \n",
              "20635  1.5603      25.0  5.045455   1.133333       845.0  2.560606     39.48   \n",
              "20636  2.5568      18.0  6.114035   1.315789       356.0  3.122807     39.49   \n",
              "20637  1.7000      17.0  5.205543   1.120092      1007.0  2.325635     39.43   \n",
              "20638  1.8672      18.0  5.329513   1.171920       741.0  2.123209     39.43   \n",
              "20639  2.3886      16.0  5.254717   1.162264      1387.0  2.616981     39.37   \n",
              "\n",
              "       Longitude  \n",
              "0        -122.23  \n",
              "1        -122.22  \n",
              "2        -122.24  \n",
              "3        -122.25  \n",
              "4        -122.25  \n",
              "...          ...  \n",
              "20635    -121.09  \n",
              "20636    -121.21  \n",
              "20637    -121.22  \n",
              "20638    -121.32  \n",
              "20639    -121.24  \n",
              "\n",
              "[20640 rows x 8 columns]"
            ],
            "text/html": [
              "\n",
              "  <div id=\"df-948c2889-b042-49d4-bb3c-b0c7c7e2d42e\">\n",
              "    <div class=\"colab-df-container\">\n",
              "      <div>\n",
              "<style scoped>\n",
              "    .dataframe tbody tr th:only-of-type {\n",
              "        vertical-align: middle;\n",
              "    }\n",
              "\n",
              "    .dataframe tbody tr th {\n",
              "        vertical-align: top;\n",
              "    }\n",
              "\n",
              "    .dataframe thead th {\n",
              "        text-align: right;\n",
              "    }\n",
              "</style>\n",
              "<table border=\"1\" class=\"dataframe\">\n",
              "  <thead>\n",
              "    <tr style=\"text-align: right;\">\n",
              "      <th></th>\n",
              "      <th>MedInc</th>\n",
              "      <th>HouseAge</th>\n",
              "      <th>AveRooms</th>\n",
              "      <th>AveBedrms</th>\n",
              "      <th>Population</th>\n",
              "      <th>AveOccup</th>\n",
              "      <th>Latitude</th>\n",
              "      <th>Longitude</th>\n",
              "    </tr>\n",
              "  </thead>\n",
              "  <tbody>\n",
              "    <tr>\n",
              "      <th>0</th>\n",
              "      <td>8.3252</td>\n",
              "      <td>41.0</td>\n",
              "      <td>6.984127</td>\n",
              "      <td>1.023810</td>\n",
              "      <td>322.0</td>\n",
              "      <td>2.555556</td>\n",
              "      <td>37.88</td>\n",
              "      <td>-122.23</td>\n",
              "    </tr>\n",
              "    <tr>\n",
              "      <th>1</th>\n",
              "      <td>8.3014</td>\n",
              "      <td>21.0</td>\n",
              "      <td>6.238137</td>\n",
              "      <td>0.971880</td>\n",
              "      <td>2401.0</td>\n",
              "      <td>2.109842</td>\n",
              "      <td>37.86</td>\n",
              "      <td>-122.22</td>\n",
              "    </tr>\n",
              "    <tr>\n",
              "      <th>2</th>\n",
              "      <td>7.2574</td>\n",
              "      <td>52.0</td>\n",
              "      <td>8.288136</td>\n",
              "      <td>1.073446</td>\n",
              "      <td>496.0</td>\n",
              "      <td>2.802260</td>\n",
              "      <td>37.85</td>\n",
              "      <td>-122.24</td>\n",
              "    </tr>\n",
              "    <tr>\n",
              "      <th>3</th>\n",
              "      <td>5.6431</td>\n",
              "      <td>52.0</td>\n",
              "      <td>5.817352</td>\n",
              "      <td>1.073059</td>\n",
              "      <td>558.0</td>\n",
              "      <td>2.547945</td>\n",
              "      <td>37.85</td>\n",
              "      <td>-122.25</td>\n",
              "    </tr>\n",
              "    <tr>\n",
              "      <th>4</th>\n",
              "      <td>3.8462</td>\n",
              "      <td>52.0</td>\n",
              "      <td>6.281853</td>\n",
              "      <td>1.081081</td>\n",
              "      <td>565.0</td>\n",
              "      <td>2.181467</td>\n",
              "      <td>37.85</td>\n",
              "      <td>-122.25</td>\n",
              "    </tr>\n",
              "    <tr>\n",
              "      <th>...</th>\n",
              "      <td>...</td>\n",
              "      <td>...</td>\n",
              "      <td>...</td>\n",
              "      <td>...</td>\n",
              "      <td>...</td>\n",
              "      <td>...</td>\n",
              "      <td>...</td>\n",
              "      <td>...</td>\n",
              "    </tr>\n",
              "    <tr>\n",
              "      <th>20635</th>\n",
              "      <td>1.5603</td>\n",
              "      <td>25.0</td>\n",
              "      <td>5.045455</td>\n",
              "      <td>1.133333</td>\n",
              "      <td>845.0</td>\n",
              "      <td>2.560606</td>\n",
              "      <td>39.48</td>\n",
              "      <td>-121.09</td>\n",
              "    </tr>\n",
              "    <tr>\n",
              "      <th>20636</th>\n",
              "      <td>2.5568</td>\n",
              "      <td>18.0</td>\n",
              "      <td>6.114035</td>\n",
              "      <td>1.315789</td>\n",
              "      <td>356.0</td>\n",
              "      <td>3.122807</td>\n",
              "      <td>39.49</td>\n",
              "      <td>-121.21</td>\n",
              "    </tr>\n",
              "    <tr>\n",
              "      <th>20637</th>\n",
              "      <td>1.7000</td>\n",
              "      <td>17.0</td>\n",
              "      <td>5.205543</td>\n",
              "      <td>1.120092</td>\n",
              "      <td>1007.0</td>\n",
              "      <td>2.325635</td>\n",
              "      <td>39.43</td>\n",
              "      <td>-121.22</td>\n",
              "    </tr>\n",
              "    <tr>\n",
              "      <th>20638</th>\n",
              "      <td>1.8672</td>\n",
              "      <td>18.0</td>\n",
              "      <td>5.329513</td>\n",
              "      <td>1.171920</td>\n",
              "      <td>741.0</td>\n",
              "      <td>2.123209</td>\n",
              "      <td>39.43</td>\n",
              "      <td>-121.32</td>\n",
              "    </tr>\n",
              "    <tr>\n",
              "      <th>20639</th>\n",
              "      <td>2.3886</td>\n",
              "      <td>16.0</td>\n",
              "      <td>5.254717</td>\n",
              "      <td>1.162264</td>\n",
              "      <td>1387.0</td>\n",
              "      <td>2.616981</td>\n",
              "      <td>39.37</td>\n",
              "      <td>-121.24</td>\n",
              "    </tr>\n",
              "  </tbody>\n",
              "</table>\n",
              "<p>20640 rows × 8 columns</p>\n",
              "</div>\n",
              "      <button class=\"colab-df-convert\" onclick=\"convertToInteractive('df-948c2889-b042-49d4-bb3c-b0c7c7e2d42e')\"\n",
              "              title=\"Convert this dataframe to an interactive table.\"\n",
              "              style=\"display:none;\">\n",
              "        \n",
              "  <svg xmlns=\"http://www.w3.org/2000/svg\" height=\"24px\"viewBox=\"0 0 24 24\"\n",
              "       width=\"24px\">\n",
              "    <path d=\"M0 0h24v24H0V0z\" fill=\"none\"/>\n",
              "    <path d=\"M18.56 5.44l.94 2.06.94-2.06 2.06-.94-2.06-.94-.94-2.06-.94 2.06-2.06.94zm-11 1L8.5 8.5l.94-2.06 2.06-.94-2.06-.94L8.5 2.5l-.94 2.06-2.06.94zm10 10l.94 2.06.94-2.06 2.06-.94-2.06-.94-.94-2.06-.94 2.06-2.06.94z\"/><path d=\"M17.41 7.96l-1.37-1.37c-.4-.4-.92-.59-1.43-.59-.52 0-1.04.2-1.43.59L10.3 9.45l-7.72 7.72c-.78.78-.78 2.05 0 2.83L4 21.41c.39.39.9.59 1.41.59.51 0 1.02-.2 1.41-.59l7.78-7.78 2.81-2.81c.8-.78.8-2.07 0-2.86zM5.41 20L4 18.59l7.72-7.72 1.47 1.35L5.41 20z\"/>\n",
              "  </svg>\n",
              "      </button>\n",
              "      \n",
              "  <style>\n",
              "    .colab-df-container {\n",
              "      display:flex;\n",
              "      flex-wrap:wrap;\n",
              "      gap: 12px;\n",
              "    }\n",
              "\n",
              "    .colab-df-convert {\n",
              "      background-color: #E8F0FE;\n",
              "      border: none;\n",
              "      border-radius: 50%;\n",
              "      cursor: pointer;\n",
              "      display: none;\n",
              "      fill: #1967D2;\n",
              "      height: 32px;\n",
              "      padding: 0 0 0 0;\n",
              "      width: 32px;\n",
              "    }\n",
              "\n",
              "    .colab-df-convert:hover {\n",
              "      background-color: #E2EBFA;\n",
              "      box-shadow: 0px 1px 2px rgba(60, 64, 67, 0.3), 0px 1px 3px 1px rgba(60, 64, 67, 0.15);\n",
              "      fill: #174EA6;\n",
              "    }\n",
              "\n",
              "    [theme=dark] .colab-df-convert {\n",
              "      background-color: #3B4455;\n",
              "      fill: #D2E3FC;\n",
              "    }\n",
              "\n",
              "    [theme=dark] .colab-df-convert:hover {\n",
              "      background-color: #434B5C;\n",
              "      box-shadow: 0px 1px 3px 1px rgba(0, 0, 0, 0.15);\n",
              "      filter: drop-shadow(0px 1px 2px rgba(0, 0, 0, 0.3));\n",
              "      fill: #FFFFFF;\n",
              "    }\n",
              "  </style>\n",
              "\n",
              "      <script>\n",
              "        const buttonEl =\n",
              "          document.querySelector('#df-948c2889-b042-49d4-bb3c-b0c7c7e2d42e button.colab-df-convert');\n",
              "        buttonEl.style.display =\n",
              "          google.colab.kernel.accessAllowed ? 'block' : 'none';\n",
              "\n",
              "        async function convertToInteractive(key) {\n",
              "          const element = document.querySelector('#df-948c2889-b042-49d4-bb3c-b0c7c7e2d42e');\n",
              "          const dataTable =\n",
              "            await google.colab.kernel.invokeFunction('convertToInteractive',\n",
              "                                                     [key], {});\n",
              "          if (!dataTable) return;\n",
              "\n",
              "          const docLinkHtml = 'Like what you see? Visit the ' +\n",
              "            '<a target=\"_blank\" href=https://colab.research.google.com/notebooks/data_table.ipynb>data table notebook</a>'\n",
              "            + ' to learn more about interactive tables.';\n",
              "          element.innerHTML = '';\n",
              "          dataTable['output_type'] = 'display_data';\n",
              "          await google.colab.output.renderOutput(dataTable, element);\n",
              "          const docLink = document.createElement('div');\n",
              "          docLink.innerHTML = docLinkHtml;\n",
              "          element.appendChild(docLink);\n",
              "        }\n",
              "      </script>\n",
              "    </div>\n",
              "  </div>\n",
              "  "
            ]
          },
          "metadata": {},
          "execution_count": 21
        }
      ]
    },
    {
      "cell_type": "code",
      "source": [
        "y"
      ],
      "metadata": {
        "colab": {
          "base_uri": "https://localhost:8080/",
          "height": 424
        },
        "id": "tRdh6p94r4TT",
        "outputId": "56a46392-5054-48ac-b572-9e29ba426879"
      },
      "execution_count": 23,
      "outputs": [
        {
          "output_type": "execute_result",
          "data": {
            "text/plain": [
              "       Housing Price\n",
              "0              4.526\n",
              "1              3.585\n",
              "2              3.521\n",
              "3              3.413\n",
              "4              3.422\n",
              "...              ...\n",
              "20635          0.781\n",
              "20636          0.771\n",
              "20637          0.923\n",
              "20638          0.847\n",
              "20639          0.894\n",
              "\n",
              "[20640 rows x 1 columns]"
            ],
            "text/html": [
              "\n",
              "  <div id=\"df-160530b6-fdcd-4c0a-a87f-5782e10ddad5\">\n",
              "    <div class=\"colab-df-container\">\n",
              "      <div>\n",
              "<style scoped>\n",
              "    .dataframe tbody tr th:only-of-type {\n",
              "        vertical-align: middle;\n",
              "    }\n",
              "\n",
              "    .dataframe tbody tr th {\n",
              "        vertical-align: top;\n",
              "    }\n",
              "\n",
              "    .dataframe thead th {\n",
              "        text-align: right;\n",
              "    }\n",
              "</style>\n",
              "<table border=\"1\" class=\"dataframe\">\n",
              "  <thead>\n",
              "    <tr style=\"text-align: right;\">\n",
              "      <th></th>\n",
              "      <th>Housing Price</th>\n",
              "    </tr>\n",
              "  </thead>\n",
              "  <tbody>\n",
              "    <tr>\n",
              "      <th>0</th>\n",
              "      <td>4.526</td>\n",
              "    </tr>\n",
              "    <tr>\n",
              "      <th>1</th>\n",
              "      <td>3.585</td>\n",
              "    </tr>\n",
              "    <tr>\n",
              "      <th>2</th>\n",
              "      <td>3.521</td>\n",
              "    </tr>\n",
              "    <tr>\n",
              "      <th>3</th>\n",
              "      <td>3.413</td>\n",
              "    </tr>\n",
              "    <tr>\n",
              "      <th>4</th>\n",
              "      <td>3.422</td>\n",
              "    </tr>\n",
              "    <tr>\n",
              "      <th>...</th>\n",
              "      <td>...</td>\n",
              "    </tr>\n",
              "    <tr>\n",
              "      <th>20635</th>\n",
              "      <td>0.781</td>\n",
              "    </tr>\n",
              "    <tr>\n",
              "      <th>20636</th>\n",
              "      <td>0.771</td>\n",
              "    </tr>\n",
              "    <tr>\n",
              "      <th>20637</th>\n",
              "      <td>0.923</td>\n",
              "    </tr>\n",
              "    <tr>\n",
              "      <th>20638</th>\n",
              "      <td>0.847</td>\n",
              "    </tr>\n",
              "    <tr>\n",
              "      <th>20639</th>\n",
              "      <td>0.894</td>\n",
              "    </tr>\n",
              "  </tbody>\n",
              "</table>\n",
              "<p>20640 rows × 1 columns</p>\n",
              "</div>\n",
              "      <button class=\"colab-df-convert\" onclick=\"convertToInteractive('df-160530b6-fdcd-4c0a-a87f-5782e10ddad5')\"\n",
              "              title=\"Convert this dataframe to an interactive table.\"\n",
              "              style=\"display:none;\">\n",
              "        \n",
              "  <svg xmlns=\"http://www.w3.org/2000/svg\" height=\"24px\"viewBox=\"0 0 24 24\"\n",
              "       width=\"24px\">\n",
              "    <path d=\"M0 0h24v24H0V0z\" fill=\"none\"/>\n",
              "    <path d=\"M18.56 5.44l.94 2.06.94-2.06 2.06-.94-2.06-.94-.94-2.06-.94 2.06-2.06.94zm-11 1L8.5 8.5l.94-2.06 2.06-.94-2.06-.94L8.5 2.5l-.94 2.06-2.06.94zm10 10l.94 2.06.94-2.06 2.06-.94-2.06-.94-.94-2.06-.94 2.06-2.06.94z\"/><path d=\"M17.41 7.96l-1.37-1.37c-.4-.4-.92-.59-1.43-.59-.52 0-1.04.2-1.43.59L10.3 9.45l-7.72 7.72c-.78.78-.78 2.05 0 2.83L4 21.41c.39.39.9.59 1.41.59.51 0 1.02-.2 1.41-.59l7.78-7.78 2.81-2.81c.8-.78.8-2.07 0-2.86zM5.41 20L4 18.59l7.72-7.72 1.47 1.35L5.41 20z\"/>\n",
              "  </svg>\n",
              "      </button>\n",
              "      \n",
              "  <style>\n",
              "    .colab-df-container {\n",
              "      display:flex;\n",
              "      flex-wrap:wrap;\n",
              "      gap: 12px;\n",
              "    }\n",
              "\n",
              "    .colab-df-convert {\n",
              "      background-color: #E8F0FE;\n",
              "      border: none;\n",
              "      border-radius: 50%;\n",
              "      cursor: pointer;\n",
              "      display: none;\n",
              "      fill: #1967D2;\n",
              "      height: 32px;\n",
              "      padding: 0 0 0 0;\n",
              "      width: 32px;\n",
              "    }\n",
              "\n",
              "    .colab-df-convert:hover {\n",
              "      background-color: #E2EBFA;\n",
              "      box-shadow: 0px 1px 2px rgba(60, 64, 67, 0.3), 0px 1px 3px 1px rgba(60, 64, 67, 0.15);\n",
              "      fill: #174EA6;\n",
              "    }\n",
              "\n",
              "    [theme=dark] .colab-df-convert {\n",
              "      background-color: #3B4455;\n",
              "      fill: #D2E3FC;\n",
              "    }\n",
              "\n",
              "    [theme=dark] .colab-df-convert:hover {\n",
              "      background-color: #434B5C;\n",
              "      box-shadow: 0px 1px 3px 1px rgba(0, 0, 0, 0.15);\n",
              "      filter: drop-shadow(0px 1px 2px rgba(0, 0, 0, 0.3));\n",
              "      fill: #FFFFFF;\n",
              "    }\n",
              "  </style>\n",
              "\n",
              "      <script>\n",
              "        const buttonEl =\n",
              "          document.querySelector('#df-160530b6-fdcd-4c0a-a87f-5782e10ddad5 button.colab-df-convert');\n",
              "        buttonEl.style.display =\n",
              "          google.colab.kernel.accessAllowed ? 'block' : 'none';\n",
              "\n",
              "        async function convertToInteractive(key) {\n",
              "          const element = document.querySelector('#df-160530b6-fdcd-4c0a-a87f-5782e10ddad5');\n",
              "          const dataTable =\n",
              "            await google.colab.kernel.invokeFunction('convertToInteractive',\n",
              "                                                     [key], {});\n",
              "          if (!dataTable) return;\n",
              "\n",
              "          const docLinkHtml = 'Like what you see? Visit the ' +\n",
              "            '<a target=\"_blank\" href=https://colab.research.google.com/notebooks/data_table.ipynb>data table notebook</a>'\n",
              "            + ' to learn more about interactive tables.';\n",
              "          element.innerHTML = '';\n",
              "          dataTable['output_type'] = 'display_data';\n",
              "          await google.colab.output.renderOutput(dataTable, element);\n",
              "          const docLink = document.createElement('div');\n",
              "          docLink.innerHTML = docLinkHtml;\n",
              "          element.appendChild(docLink);\n",
              "        }\n",
              "      </script>\n",
              "    </div>\n",
              "  </div>\n",
              "  "
            ]
          },
          "metadata": {},
          "execution_count": 23
        }
      ]
    },
    {
      "cell_type": "code",
      "source": [
        "# Merge X and y into a single DataFrame\n",
        "data = pd.concat([X, y], axis = 1)\n",
        "data.head()"
      ],
      "metadata": {
        "colab": {
          "base_uri": "https://localhost:8080/",
          "height": 206
        },
        "id": "ZFRsXd_Rr6OU",
        "outputId": "5e11642a-ebcd-4f86-efa2-3aa398a92890"
      },
      "execution_count": 27,
      "outputs": [
        {
          "output_type": "execute_result",
          "data": {
            "text/plain": [
              "   MedInc  HouseAge  AveRooms  AveBedrms  Population  AveOccup  Latitude  \\\n",
              "0  8.3252      41.0  6.984127   1.023810       322.0  2.555556     37.88   \n",
              "1  8.3014      21.0  6.238137   0.971880      2401.0  2.109842     37.86   \n",
              "2  7.2574      52.0  8.288136   1.073446       496.0  2.802260     37.85   \n",
              "3  5.6431      52.0  5.817352   1.073059       558.0  2.547945     37.85   \n",
              "4  3.8462      52.0  6.281853   1.081081       565.0  2.181467     37.85   \n",
              "\n",
              "   Longitude  Housing Price  \n",
              "0    -122.23          4.526  \n",
              "1    -122.22          3.585  \n",
              "2    -122.24          3.521  \n",
              "3    -122.25          3.413  \n",
              "4    -122.25          3.422  "
            ],
            "text/html": [
              "\n",
              "  <div id=\"df-b531cc22-c1e5-494b-bb81-06f3f0aa9ccd\">\n",
              "    <div class=\"colab-df-container\">\n",
              "      <div>\n",
              "<style scoped>\n",
              "    .dataframe tbody tr th:only-of-type {\n",
              "        vertical-align: middle;\n",
              "    }\n",
              "\n",
              "    .dataframe tbody tr th {\n",
              "        vertical-align: top;\n",
              "    }\n",
              "\n",
              "    .dataframe thead th {\n",
              "        text-align: right;\n",
              "    }\n",
              "</style>\n",
              "<table border=\"1\" class=\"dataframe\">\n",
              "  <thead>\n",
              "    <tr style=\"text-align: right;\">\n",
              "      <th></th>\n",
              "      <th>MedInc</th>\n",
              "      <th>HouseAge</th>\n",
              "      <th>AveRooms</th>\n",
              "      <th>AveBedrms</th>\n",
              "      <th>Population</th>\n",
              "      <th>AveOccup</th>\n",
              "      <th>Latitude</th>\n",
              "      <th>Longitude</th>\n",
              "      <th>Housing Price</th>\n",
              "    </tr>\n",
              "  </thead>\n",
              "  <tbody>\n",
              "    <tr>\n",
              "      <th>0</th>\n",
              "      <td>8.3252</td>\n",
              "      <td>41.0</td>\n",
              "      <td>6.984127</td>\n",
              "      <td>1.023810</td>\n",
              "      <td>322.0</td>\n",
              "      <td>2.555556</td>\n",
              "      <td>37.88</td>\n",
              "      <td>-122.23</td>\n",
              "      <td>4.526</td>\n",
              "    </tr>\n",
              "    <tr>\n",
              "      <th>1</th>\n",
              "      <td>8.3014</td>\n",
              "      <td>21.0</td>\n",
              "      <td>6.238137</td>\n",
              "      <td>0.971880</td>\n",
              "      <td>2401.0</td>\n",
              "      <td>2.109842</td>\n",
              "      <td>37.86</td>\n",
              "      <td>-122.22</td>\n",
              "      <td>3.585</td>\n",
              "    </tr>\n",
              "    <tr>\n",
              "      <th>2</th>\n",
              "      <td>7.2574</td>\n",
              "      <td>52.0</td>\n",
              "      <td>8.288136</td>\n",
              "      <td>1.073446</td>\n",
              "      <td>496.0</td>\n",
              "      <td>2.802260</td>\n",
              "      <td>37.85</td>\n",
              "      <td>-122.24</td>\n",
              "      <td>3.521</td>\n",
              "    </tr>\n",
              "    <tr>\n",
              "      <th>3</th>\n",
              "      <td>5.6431</td>\n",
              "      <td>52.0</td>\n",
              "      <td>5.817352</td>\n",
              "      <td>1.073059</td>\n",
              "      <td>558.0</td>\n",
              "      <td>2.547945</td>\n",
              "      <td>37.85</td>\n",
              "      <td>-122.25</td>\n",
              "      <td>3.413</td>\n",
              "    </tr>\n",
              "    <tr>\n",
              "      <th>4</th>\n",
              "      <td>3.8462</td>\n",
              "      <td>52.0</td>\n",
              "      <td>6.281853</td>\n",
              "      <td>1.081081</td>\n",
              "      <td>565.0</td>\n",
              "      <td>2.181467</td>\n",
              "      <td>37.85</td>\n",
              "      <td>-122.25</td>\n",
              "      <td>3.422</td>\n",
              "    </tr>\n",
              "  </tbody>\n",
              "</table>\n",
              "</div>\n",
              "      <button class=\"colab-df-convert\" onclick=\"convertToInteractive('df-b531cc22-c1e5-494b-bb81-06f3f0aa9ccd')\"\n",
              "              title=\"Convert this dataframe to an interactive table.\"\n",
              "              style=\"display:none;\">\n",
              "        \n",
              "  <svg xmlns=\"http://www.w3.org/2000/svg\" height=\"24px\"viewBox=\"0 0 24 24\"\n",
              "       width=\"24px\">\n",
              "    <path d=\"M0 0h24v24H0V0z\" fill=\"none\"/>\n",
              "    <path d=\"M18.56 5.44l.94 2.06.94-2.06 2.06-.94-2.06-.94-.94-2.06-.94 2.06-2.06.94zm-11 1L8.5 8.5l.94-2.06 2.06-.94-2.06-.94L8.5 2.5l-.94 2.06-2.06.94zm10 10l.94 2.06.94-2.06 2.06-.94-2.06-.94-.94-2.06-.94 2.06-2.06.94z\"/><path d=\"M17.41 7.96l-1.37-1.37c-.4-.4-.92-.59-1.43-.59-.52 0-1.04.2-1.43.59L10.3 9.45l-7.72 7.72c-.78.78-.78 2.05 0 2.83L4 21.41c.39.39.9.59 1.41.59.51 0 1.02-.2 1.41-.59l7.78-7.78 2.81-2.81c.8-.78.8-2.07 0-2.86zM5.41 20L4 18.59l7.72-7.72 1.47 1.35L5.41 20z\"/>\n",
              "  </svg>\n",
              "      </button>\n",
              "      \n",
              "  <style>\n",
              "    .colab-df-container {\n",
              "      display:flex;\n",
              "      flex-wrap:wrap;\n",
              "      gap: 12px;\n",
              "    }\n",
              "\n",
              "    .colab-df-convert {\n",
              "      background-color: #E8F0FE;\n",
              "      border: none;\n",
              "      border-radius: 50%;\n",
              "      cursor: pointer;\n",
              "      display: none;\n",
              "      fill: #1967D2;\n",
              "      height: 32px;\n",
              "      padding: 0 0 0 0;\n",
              "      width: 32px;\n",
              "    }\n",
              "\n",
              "    .colab-df-convert:hover {\n",
              "      background-color: #E2EBFA;\n",
              "      box-shadow: 0px 1px 2px rgba(60, 64, 67, 0.3), 0px 1px 3px 1px rgba(60, 64, 67, 0.15);\n",
              "      fill: #174EA6;\n",
              "    }\n",
              "\n",
              "    [theme=dark] .colab-df-convert {\n",
              "      background-color: #3B4455;\n",
              "      fill: #D2E3FC;\n",
              "    }\n",
              "\n",
              "    [theme=dark] .colab-df-convert:hover {\n",
              "      background-color: #434B5C;\n",
              "      box-shadow: 0px 1px 3px 1px rgba(0, 0, 0, 0.15);\n",
              "      filter: drop-shadow(0px 1px 2px rgba(0, 0, 0, 0.3));\n",
              "      fill: #FFFFFF;\n",
              "    }\n",
              "  </style>\n",
              "\n",
              "      <script>\n",
              "        const buttonEl =\n",
              "          document.querySelector('#df-b531cc22-c1e5-494b-bb81-06f3f0aa9ccd button.colab-df-convert');\n",
              "        buttonEl.style.display =\n",
              "          google.colab.kernel.accessAllowed ? 'block' : 'none';\n",
              "\n",
              "        async function convertToInteractive(key) {\n",
              "          const element = document.querySelector('#df-b531cc22-c1e5-494b-bb81-06f3f0aa9ccd');\n",
              "          const dataTable =\n",
              "            await google.colab.kernel.invokeFunction('convertToInteractive',\n",
              "                                                     [key], {});\n",
              "          if (!dataTable) return;\n",
              "\n",
              "          const docLinkHtml = 'Like what you see? Visit the ' +\n",
              "            '<a target=\"_blank\" href=https://colab.research.google.com/notebooks/data_table.ipynb>data table notebook</a>'\n",
              "            + ' to learn more about interactive tables.';\n",
              "          element.innerHTML = '';\n",
              "          dataTable['output_type'] = 'display_data';\n",
              "          await google.colab.output.renderOutput(dataTable, element);\n",
              "          const docLink = document.createElement('div');\n",
              "          docLink.innerHTML = docLinkHtml;\n",
              "          element.appendChild(docLink);\n",
              "        }\n",
              "      </script>\n",
              "    </div>\n",
              "  </div>\n",
              "  "
            ]
          },
          "metadata": {},
          "execution_count": 27
        }
      ]
    },
    {
      "cell_type": "code",
      "source": [
        "train_data, test_data = train_test_split(data, test_size = 0.3, random_state=1234)"
      ],
      "metadata": {
        "id": "Sj3ThH--tC0P"
      },
      "execution_count": 30,
      "outputs": []
    },
    {
      "cell_type": "code",
      "source": [
        "lm = sm.OLS(train_data['Housing Price'], train_data.drop(['Housing Price'], axis=1))\n",
        "lm_trained = lm.fit()\n",
        "display(lm_trained.summary())"
      ],
      "metadata": {
        "colab": {
          "base_uri": "https://localhost:8080/",
          "height": 604
        },
        "id": "yJsXeH2sukLD",
        "outputId": "4a215eb5-0fcf-4813-f8bf-574d47dbdbb2"
      },
      "execution_count": 34,
      "outputs": [
        {
          "output_type": "display_data",
          "data": {
            "text/plain": [
              "<class 'statsmodels.iolib.summary.Summary'>\n",
              "\"\"\"\n",
              "                                 OLS Regression Results                                \n",
              "=======================================================================================\n",
              "Dep. Variable:          Housing Price   R-squared (uncentered):                   0.893\n",
              "Model:                            OLS   Adj. R-squared (uncentered):              0.893\n",
              "Method:                 Least Squares   F-statistic:                          1.510e+04\n",
              "Date:                Wed, 18 May 2022   Prob (F-statistic):                        0.00\n",
              "Time:                        06:00:26   Log-Likelihood:                         -16788.\n",
              "No. Observations:               14448   AIC:                                  3.359e+04\n",
              "Df Residuals:                   14440   BIC:                                  3.365e+04\n",
              "Df Model:                           8                                                  \n",
              "Covariance Type:            nonrobust                                                  \n",
              "==============================================================================\n",
              "                 coef    std err          t      P>|t|      [0.025      0.975]\n",
              "------------------------------------------------------------------------------\n",
              "MedInc         0.5179      0.005    100.878      0.000       0.508       0.528\n",
              "HouseAge       0.0155      0.001     27.974      0.000       0.014       0.017\n",
              "AveRooms      -0.1949      0.008    -25.913      0.000      -0.210      -0.180\n",
              "AveBedrms      0.9094      0.037     24.255      0.000       0.836       0.983\n",
              "Population   7.73e-06   6.11e-06      1.265      0.206   -4.25e-06    1.97e-05\n",
              "AveOccup      -0.0043      0.001     -7.527      0.000      -0.005      -0.003\n",
              "Latitude      -0.0615      0.004    -14.453      0.000      -0.070      -0.053\n",
              "Longitude     -0.0157      0.001    -11.562      0.000      -0.018      -0.013\n",
              "==============================================================================\n",
              "Omnibus:                     2759.873   Durbin-Watson:                   1.974\n",
              "Prob(Omnibus):                  0.000   Jarque-Bera (JB):             7652.688\n",
              "Skew:                           1.020   Prob(JB):                         0.00\n",
              "Kurtosis:                       5.924   Cond. No.                     1.08e+04\n",
              "==============================================================================\n",
              "\n",
              "Warnings:\n",
              "[1] Standard Errors assume that the covariance matrix of the errors is correctly specified.\n",
              "[2] The condition number is large, 1.08e+04. This might indicate that there are\n",
              "strong multicollinearity or other numerical problems.\n",
              "\"\"\""
            ],
            "text/html": [
              "<table class=\"simpletable\">\n",
              "<caption>OLS Regression Results</caption>\n",
              "<tr>\n",
              "  <th>Dep. Variable:</th>      <td>Housing Price</td>  <th>  R-squared (uncentered):</th>      <td>   0.893</td> \n",
              "</tr>\n",
              "<tr>\n",
              "  <th>Model:</th>                   <td>OLS</td>       <th>  Adj. R-squared (uncentered):</th> <td>   0.893</td> \n",
              "</tr>\n",
              "<tr>\n",
              "  <th>Method:</th>             <td>Least Squares</td>  <th>  F-statistic:       </th>          <td>1.510e+04</td>\n",
              "</tr>\n",
              "<tr>\n",
              "  <th>Date:</th>             <td>Wed, 18 May 2022</td> <th>  Prob (F-statistic):</th>           <td>  0.00</td>  \n",
              "</tr>\n",
              "<tr>\n",
              "  <th>Time:</th>                 <td>06:00:26</td>     <th>  Log-Likelihood:    </th>          <td> -16788.</td> \n",
              "</tr>\n",
              "<tr>\n",
              "  <th>No. Observations:</th>      <td> 14448</td>      <th>  AIC:               </th>          <td>3.359e+04</td>\n",
              "</tr>\n",
              "<tr>\n",
              "  <th>Df Residuals:</th>          <td> 14440</td>      <th>  BIC:               </th>          <td>3.365e+04</td>\n",
              "</tr>\n",
              "<tr>\n",
              "  <th>Df Model:</th>              <td>     8</td>      <th>                     </th>              <td> </td>    \n",
              "</tr>\n",
              "<tr>\n",
              "  <th>Covariance Type:</th>      <td>nonrobust</td>    <th>                     </th>              <td> </td>    \n",
              "</tr>\n",
              "</table>\n",
              "<table class=\"simpletable\">\n",
              "<tr>\n",
              "       <td></td>         <th>coef</th>     <th>std err</th>      <th>t</th>      <th>P>|t|</th>  <th>[0.025</th>    <th>0.975]</th>  \n",
              "</tr>\n",
              "<tr>\n",
              "  <th>MedInc</th>     <td>    0.5179</td> <td>    0.005</td> <td>  100.878</td> <td> 0.000</td> <td>    0.508</td> <td>    0.528</td>\n",
              "</tr>\n",
              "<tr>\n",
              "  <th>HouseAge</th>   <td>    0.0155</td> <td>    0.001</td> <td>   27.974</td> <td> 0.000</td> <td>    0.014</td> <td>    0.017</td>\n",
              "</tr>\n",
              "<tr>\n",
              "  <th>AveRooms</th>   <td>   -0.1949</td> <td>    0.008</td> <td>  -25.913</td> <td> 0.000</td> <td>   -0.210</td> <td>   -0.180</td>\n",
              "</tr>\n",
              "<tr>\n",
              "  <th>AveBedrms</th>  <td>    0.9094</td> <td>    0.037</td> <td>   24.255</td> <td> 0.000</td> <td>    0.836</td> <td>    0.983</td>\n",
              "</tr>\n",
              "<tr>\n",
              "  <th>Population</th> <td>  7.73e-06</td> <td> 6.11e-06</td> <td>    1.265</td> <td> 0.206</td> <td>-4.25e-06</td> <td> 1.97e-05</td>\n",
              "</tr>\n",
              "<tr>\n",
              "  <th>AveOccup</th>   <td>   -0.0043</td> <td>    0.001</td> <td>   -7.527</td> <td> 0.000</td> <td>   -0.005</td> <td>   -0.003</td>\n",
              "</tr>\n",
              "<tr>\n",
              "  <th>Latitude</th>   <td>   -0.0615</td> <td>    0.004</td> <td>  -14.453</td> <td> 0.000</td> <td>   -0.070</td> <td>   -0.053</td>\n",
              "</tr>\n",
              "<tr>\n",
              "  <th>Longitude</th>  <td>   -0.0157</td> <td>    0.001</td> <td>  -11.562</td> <td> 0.000</td> <td>   -0.018</td> <td>   -0.013</td>\n",
              "</tr>\n",
              "</table>\n",
              "<table class=\"simpletable\">\n",
              "<tr>\n",
              "  <th>Omnibus:</th>       <td>2759.873</td> <th>  Durbin-Watson:     </th> <td>   1.974</td>\n",
              "</tr>\n",
              "<tr>\n",
              "  <th>Prob(Omnibus):</th>  <td> 0.000</td>  <th>  Jarque-Bera (JB):  </th> <td>7652.688</td>\n",
              "</tr>\n",
              "<tr>\n",
              "  <th>Skew:</th>           <td> 1.020</td>  <th>  Prob(JB):          </th> <td>    0.00</td>\n",
              "</tr>\n",
              "<tr>\n",
              "  <th>Kurtosis:</th>       <td> 5.924</td>  <th>  Cond. No.          </th> <td>1.08e+04</td>\n",
              "</tr>\n",
              "</table><br/><br/>Warnings:<br/>[1] Standard Errors assume that the covariance matrix of the errors is correctly specified.<br/>[2] The condition number is large, 1.08e+04. This might indicate that there are<br/>strong multicollinearity or other numerical problems."
            ]
          },
          "metadata": {}
        }
      ]
    },
    {
      "cell_type": "code",
      "source": [
        "train_pred = lm_trained.predict(train_data.drop(['Housing Price'], axis=1))\n",
        "\n",
        "plt.figure(figsize=(6, 6))\n",
        "plt.title('California Housing Training Dataset: Observed vs MLR Predicted Data')\n",
        "plt.scatter(train_data['Housing Price'], train_pred)\n",
        "plt.xlabel('Observed Data', size=16)\n",
        "plt.ylabel('MLR Predicted Data', size=16)\n",
        "plt.xlim(0, 8)\n",
        "plt.ylim(0, 8)\n",
        "plt.show()"
      ],
      "metadata": {
        "colab": {
          "base_uri": "https://localhost:8080/",
          "height": 409
        },
        "id": "ieNAfPY4wNMG",
        "outputId": "864495b2-64f5-4060-c34c-2b369a465836"
      },
      "execution_count": 48,
      "outputs": [
        {
          "output_type": "display_data",
          "data": {
            "text/plain": [
              "<Figure size 432x432 with 1 Axes>"
            ],
            "image/png": "[encoded data removed]"
          },
          "metadata": {
            "needs_background": "light"
          }
        }
      ]
    },
    {
      "cell_type": "code",
      "source": [
        "# Define function to calculate MAPE\n",
        "def mean_absolute_percentage_error(y_true, y_pred):\n",
        "  y_true, y_pred = np.array(y_true), np.array(y_pred)\n",
        "  return np.mean(np.abs((y_true - y_pred)/y_true)) * 100"
      ],
      "metadata": {
        "id": "gc2w7udbxNcN"
      },
      "execution_count": 39,
      "outputs": []
    },
    {
      "cell_type": "code",
      "source": [
        "print('Training MSE: {:.3f}'.format(mean_squared_error(train_data['Housing Price'], train_pred)))\n",
        "print('Training RMSE: {:.3f}'.format(np.sqrt(mean_squared_error(train_data['Housing Price'], train_pred))))\n",
        "print('Training MAE: {:.3f}'.format(mean_absolute_error(train_data['Housing Price'], train_pred)))\n",
        "print('Training MAPE: {:.3f}'.format(mean_absolute_percentage_error(train_data['Housing Price'], train_pred)))\n",
        "print('Training R2: {:.3f}'.format(r2_score(train_data['Housing Price'], train_pred)))"
      ],
      "metadata": {
        "colab": {
          "base_uri": "https://localhost:8080/"
        },
        "id": "LkRNvBDhxxdS",
        "outputId": "0f8aa794-cae6-4594-d864-99744baf0939"
      },
      "execution_count": 45,
      "outputs": [
        {
          "output_type": "stream",
          "name": "stdout",
          "text": [
            "Training MSE: 0.598\n",
            "Training RMSE: 0.773\n",
            "Training MAE: 0.571\n",
            "Training MAPE: 34.601\n",
            "Training R2: 0.551\n"
          ]
        }
      ]
    },
    {
      "cell_type": "code",
      "source": [
        "test_pred = lm_trained.predict(test_data.drop(['Housing Price'], axis=1))\n",
        "\n",
        "plt.figure(figsize=(6, 6))\n",
        "plt.title('California Housing Test Dataset: Observed vs MLR Predicted Data')\n",
        "plt.scatter(test_data['Housing Price'], test_pred)\n",
        "plt.xlabel('Observed Data', size=16)\n",
        "plt.ylabel('MLR Predicted Data', size=16)\n",
        "plt.xlim(0, 8)\n",
        "plt.ylim(0, 8)\n",
        "plt.show()\n",
        "\n",
        "print('Test MSE: {:.3f}'.format(mean_squared_error(test_data['Housing Price'], test_pred)))\n",
        "print('Test RMSE: {:.3f}'.format(np.sqrt(mean_squared_error(test_data['Housing Price'], test_pred))))\n",
        "print('Test MAE: {:.3f}'.format(mean_absolute_error(test_data['Housing Price'], test_pred)))\n",
        "print('Test MAPE: {:.3f}'.format(mean_absolute_percentage_error(test_data['Housing Price'], test_pred)))\n",
        "print('Test R2: {:.3f}'.format(r2_score(test_data['Housing Price'], test_pred)))"
      ],
      "metadata": {
        "colab": {
          "base_uri": "https://localhost:8080/",
          "height": 500
        },
        "id": "UWcOYJDXzDbc",
        "outputId": "cdc82ee0-a4e0-4aed-c433-46f052c34e25"
      },
      "execution_count": 50,
      "outputs": [
        {
          "output_type": "stream",
          "name": "stdout",
          "text": [
            "Test MSE: 0.619\n",
            "Test RMSE: 0.787\n",
            "Test MAE: 0.574\n",
            "Test MAPE: 34.806\n",
            "Test R2: 0.536\n"
          ]
        },
        {
          "output_type": "display_data",
          "data": {
            "text/plain": [
              "<Figure size 432x432 with 1 Axes>"
            ],
            "image/png": "[encoded data removed]"
          },
          "metadata": {
            "needs_background": "light"
          }
        }
      ]
    },
    {
      "cell_type": "markdown",
      "source": [
        "**Practice Example 3: Boston Housing Dataset**"
      ],
      "metadata": {
        "id": "pJE-WhM43C0W"
      }
    },
    {
      "cell_type": "code",
      "source": [
        "# Load BostonHousing Data\n",
        "boston = pd.read_csv('/content/drive/MyDrive/MLR/data/Boston_house.csv')\n",
        "print(boston.head())"
      ],
      "metadata": {
        "colab": {
          "base_uri": "https://localhost:8080/"
        },
        "id": "ZX9RYQkF3HAv",
        "outputId": "52f16779-862c-4ee7-b639-9979639b589a"
      },
      "execution_count": 57,
      "outputs": [
        {
          "output_type": "stream",
          "name": "stdout",
          "text": [
            "    AGE       B     RM     CRIM     DIS  INDUS  LSTAT    NOX  PTRATIO  RAD  \\\n",
            "0  65.2  396.90  6.575  0.00632  4.0900   2.31   4.98  0.538     15.3    1   \n",
            "1  78.9  396.90  6.421  0.02731  4.9671   7.07   9.14  0.469     17.8    2   \n",
            "2  61.1  392.83  7.185  0.02729  4.9671   7.07   4.03  0.469     17.8    2   \n",
            "3  45.8  394.63  6.998  0.03237  6.0622   2.18   2.94  0.458     18.7    3   \n",
            "4  54.2  396.90  7.147  0.06905  6.0622   2.18   5.33  0.458     18.7    3   \n",
            "\n",
            "     ZN  TAX  CHAS  Target  \n",
            "0  18.0  296     0    24.0  \n",
            "1   0.0  242     0    21.6  \n",
            "2   0.0  242     0    34.7  \n",
            "3   0.0  222     0    33.4  \n",
            "4   0.0  222     0    36.2  \n"
          ]
        }
      ]
    },
    {
      "cell_type": "code",
      "source": [
        "print(\"Number of Observations in Data: {}\".format(boston.shape[0]))\n",
        "print(\"Number of Variables in Data: {}\".format(boston.shape[1]))"
      ],
      "metadata": {
        "colab": {
          "base_uri": "https://localhost:8080/"
        },
        "id": "2CSNlZUPFTaQ",
        "outputId": "80262e16-48e0-4b0f-ca65-f6886e3adee3"
      },
      "execution_count": 59,
      "outputs": [
        {
          "output_type": "stream",
          "name": "stdout",
          "text": [
            "Number of Observations in Data: 506\n",
            "Number of Variables in Data: 14\n"
          ]
        }
      ]
    },
    {
      "cell_type": "code",
      "source": [
        "boston_X = boston.drop(['Target'], axis=1)\n",
        "boston_target = boston['Target']"
      ],
      "metadata": {
        "id": "_Qo9fX3kF6py"
      },
      "execution_count": 74,
      "outputs": []
    },
    {
      "cell_type": "code",
      "source": [
        "colnames = list(boston_X.columns.values)\n",
        "\n",
        "for i in range(0, len(colnames)):\n",
        "  plt.scatter(boston_X.iloc[:, i], boston_target, color='black')\n",
        "  plt.title('X_{} vs y'.format(colnames[i]))\n",
        "  plt.xlabel('X_{}'.format(colnames[i]))\n",
        "  plt.ylabel('Y')\n",
        "  plt.savefig('/content/drive/MyDrive/MLR/Boston_house_correlation_analysis/X_{} vs y.png'.format(colnames[i]))"
      ],
      "metadata": {
        "colab": {
          "base_uri": "https://localhost:8080/",
          "height": 296
        },
        "id": "tyczWCxaGUVk",
        "outputId": "76ea0f29-5e31-48ef-c59e-1a4b57bb0a53"
      },
      "execution_count": 78,
      "outputs": [
        {
          "output_type": "display_data",
          "data": {
            "text/plain": [
              "<Figure size 432x288 with 1 Axes>"
            ],
            "image/png": "[encoded data removed]"
          },
          "metadata": {
            "needs_background": "light"
          }
        }
      ]
    },
    {
      "cell_type": "code",
      "source": [
        "# Split training and test dataset\n",
        "X_train, X_test, y_train, y_test = train_test_split(boston_X, boston_target, test_size=0.3, random_state=1234)\n",
        "print(X_train.shape, X_test.shape, y_train.shape, y_test.shape)\n",
        "\n",
        "#Train the Multivariate Linear Regression Model\n",
        "lm = sm.OLS(y_train, X_train)\n",
        "lm_trained = lm.fit()\n",
        "display(lm_trained.summary())"
      ],
      "metadata": {
        "colab": {
          "base_uri": "https://localhost:8080/",
          "height": 727
        },
        "id": "nbZDuERhKs04",
        "outputId": "0a3411b9-74b6-4702-81b6-774e209d02ca"
      },
      "execution_count": 104,
      "outputs": [
        {
          "output_type": "stream",
          "name": "stdout",
          "text": [
            "(354, 13) (152, 13) (354,) (152,)\n"
          ]
        },
        {
          "output_type": "display_data",
          "data": {
            "text/plain": [
              "<class 'statsmodels.iolib.summary.Summary'>\n",
              "\"\"\"\n",
              "                                 OLS Regression Results                                \n",
              "=======================================================================================\n",
              "Dep. Variable:                 Target   R-squared (uncentered):                   0.955\n",
              "Model:                            OLS   Adj. R-squared (uncentered):              0.954\n",
              "Method:                 Least Squares   F-statistic:                              560.6\n",
              "Date:                Wed, 18 May 2022   Prob (F-statistic):                   4.30e-221\n",
              "Time:                        08:29:44   Log-Likelihood:                         -1080.6\n",
              "No. Observations:                 354   AIC:                                      2187.\n",
              "Df Residuals:                     341   BIC:                                      2237.\n",
              "Df Model:                          13                                                  \n",
              "Covariance Type:            nonrobust                                                  \n",
              "==============================================================================\n",
              "                 coef    std err          t      P>|t|      [0.025      0.975]\n",
              "------------------------------------------------------------------------------\n",
              "AGE            0.0036      0.017      0.205      0.837      -0.031       0.038\n",
              "B              0.0164      0.003      4.866      0.000       0.010       0.023\n",
              "RM             5.4679      0.401     13.649      0.000       4.680       6.256\n",
              "CRIM          -0.0614      0.044     -1.406      0.161      -0.147       0.024\n",
              "DIS           -0.9656      0.258     -3.747      0.000      -1.472      -0.459\n",
              "INDUS         -0.0478      0.085     -0.561      0.575      -0.215       0.120\n",
              "LSTAT         -0.4510      0.061     -7.382      0.000      -0.571      -0.331\n",
              "NOX           -2.2342      4.195     -0.533      0.595     -10.485       6.017\n",
              "PTRATIO       -0.3143      0.137     -2.301      0.022      -0.583      -0.046\n",
              "RAD            0.1512      0.089      1.702      0.090      -0.023       0.326\n",
              "ZN             0.0613      0.018      3.354      0.001       0.025       0.097\n",
              "TAX           -0.0078      0.005     -1.443      0.150      -0.018       0.003\n",
              "CHAS           2.8435      1.099      2.587      0.010       0.682       5.005\n",
              "==============================================================================\n",
              "Omnibus:                      151.390   Durbin-Watson:                   2.073\n",
              "Prob(Omnibus):                  0.000   Jarque-Bera (JB):              973.551\n",
              "Skew:                           1.667   Prob(JB):                    3.95e-212\n",
              "Kurtosis:                      10.409   Cond. No.                     8.41e+03\n",
              "==============================================================================\n",
              "\n",
              "Warnings:\n",
              "[1] Standard Errors assume that the covariance matrix of the errors is correctly specified.\n",
              "[2] The condition number is large, 8.41e+03. This might indicate that there are\n",
              "strong multicollinearity or other numerical problems.\n",
              "\"\"\""
            ],
            "text/html": [
              "<table class=\"simpletable\">\n",
              "<caption>OLS Regression Results</caption>\n",
              "<tr>\n",
              "  <th>Dep. Variable:</th>         <td>Target</td>      <th>  R-squared (uncentered):</th>      <td>   0.955</td> \n",
              "</tr>\n",
              "<tr>\n",
              "  <th>Model:</th>                   <td>OLS</td>       <th>  Adj. R-squared (uncentered):</th> <td>   0.954</td> \n",
              "</tr>\n",
              "<tr>\n",
              "  <th>Method:</th>             <td>Least Squares</td>  <th>  F-statistic:       </th>          <td>   560.6</td> \n",
              "</tr>\n",
              "<tr>\n",
              "  <th>Date:</th>             <td>Wed, 18 May 2022</td> <th>  Prob (F-statistic):</th>          <td>4.30e-221</td>\n",
              "</tr>\n",
              "<tr>\n",
              "  <th>Time:</th>                 <td>08:29:44</td>     <th>  Log-Likelihood:    </th>          <td> -1080.6</td> \n",
              "</tr>\n",
              "<tr>\n",
              "  <th>No. Observations:</th>      <td>   354</td>      <th>  AIC:               </th>          <td>   2187.</td> \n",
              "</tr>\n",
              "<tr>\n",
              "  <th>Df Residuals:</th>          <td>   341</td>      <th>  BIC:               </th>          <td>   2237.</td> \n",
              "</tr>\n",
              "<tr>\n",
              "  <th>Df Model:</th>              <td>    13</td>      <th>                     </th>              <td> </td>    \n",
              "</tr>\n",
              "<tr>\n",
              "  <th>Covariance Type:</th>      <td>nonrobust</td>    <th>                     </th>              <td> </td>    \n",
              "</tr>\n",
              "</table>\n",
              "<table class=\"simpletable\">\n",
              "<tr>\n",
              "     <td></td>        <th>coef</th>     <th>std err</th>      <th>t</th>      <th>P>|t|</th>  <th>[0.025</th>    <th>0.975]</th>  \n",
              "</tr>\n",
              "<tr>\n",
              "  <th>AGE</th>     <td>    0.0036</td> <td>    0.017</td> <td>    0.205</td> <td> 0.837</td> <td>   -0.031</td> <td>    0.038</td>\n",
              "</tr>\n",
              "<tr>\n",
              "  <th>B</th>       <td>    0.0164</td> <td>    0.003</td> <td>    4.866</td> <td> 0.000</td> <td>    0.010</td> <td>    0.023</td>\n",
              "</tr>\n",
              "<tr>\n",
              "  <th>RM</th>      <td>    5.4679</td> <td>    0.401</td> <td>   13.649</td> <td> 0.000</td> <td>    4.680</td> <td>    6.256</td>\n",
              "</tr>\n",
              "<tr>\n",
              "  <th>CRIM</th>    <td>   -0.0614</td> <td>    0.044</td> <td>   -1.406</td> <td> 0.161</td> <td>   -0.147</td> <td>    0.024</td>\n",
              "</tr>\n",
              "<tr>\n",
              "  <th>DIS</th>     <td>   -0.9656</td> <td>    0.258</td> <td>   -3.747</td> <td> 0.000</td> <td>   -1.472</td> <td>   -0.459</td>\n",
              "</tr>\n",
              "<tr>\n",
              "  <th>INDUS</th>   <td>   -0.0478</td> <td>    0.085</td> <td>   -0.561</td> <td> 0.575</td> <td>   -0.215</td> <td>    0.120</td>\n",
              "</tr>\n",
              "<tr>\n",
              "  <th>LSTAT</th>   <td>   -0.4510</td> <td>    0.061</td> <td>   -7.382</td> <td> 0.000</td> <td>   -0.571</td> <td>   -0.331</td>\n",
              "</tr>\n",
              "<tr>\n",
              "  <th>NOX</th>     <td>   -2.2342</td> <td>    4.195</td> <td>   -0.533</td> <td> 0.595</td> <td>  -10.485</td> <td>    6.017</td>\n",
              "</tr>\n",
              "<tr>\n",
              "  <th>PTRATIO</th> <td>   -0.3143</td> <td>    0.137</td> <td>   -2.301</td> <td> 0.022</td> <td>   -0.583</td> <td>   -0.046</td>\n",
              "</tr>\n",
              "<tr>\n",
              "  <th>RAD</th>     <td>    0.1512</td> <td>    0.089</td> <td>    1.702</td> <td> 0.090</td> <td>   -0.023</td> <td>    0.326</td>\n",
              "</tr>\n",
              "<tr>\n",
              "  <th>ZN</th>      <td>    0.0613</td> <td>    0.018</td> <td>    3.354</td> <td> 0.001</td> <td>    0.025</td> <td>    0.097</td>\n",
              "</tr>\n",
              "<tr>\n",
              "  <th>TAX</th>     <td>   -0.0078</td> <td>    0.005</td> <td>   -1.443</td> <td> 0.150</td> <td>   -0.018</td> <td>    0.003</td>\n",
              "</tr>\n",
              "<tr>\n",
              "  <th>CHAS</th>    <td>    2.8435</td> <td>    1.099</td> <td>    2.587</td> <td> 0.010</td> <td>    0.682</td> <td>    5.005</td>\n",
              "</tr>\n",
              "</table>\n",
              "<table class=\"simpletable\">\n",
              "<tr>\n",
              "  <th>Omnibus:</th>       <td>151.390</td> <th>  Durbin-Watson:     </th> <td>   2.073</td> \n",
              "</tr>\n",
              "<tr>\n",
              "  <th>Prob(Omnibus):</th> <td> 0.000</td>  <th>  Jarque-Bera (JB):  </th> <td> 973.551</td> \n",
              "</tr>\n",
              "<tr>\n",
              "  <th>Skew:</th>          <td> 1.667</td>  <th>  Prob(JB):          </th> <td>3.95e-212</td>\n",
              "</tr>\n",
              "<tr>\n",
              "  <th>Kurtosis:</th>      <td>10.409</td>  <th>  Cond. No.          </th> <td>8.41e+03</td> \n",
              "</tr>\n",
              "</table><br/><br/>Warnings:<br/>[1] Standard Errors assume that the covariance matrix of the errors is correctly specified.<br/>[2] The condition number is large, 8.41e+03. This might indicate that there are<br/>strong multicollinearity or other numerical problems."
            ]
          },
          "metadata": {}
        }
      ]
    },
    {
      "cell_type": "markdown",
      "source": [
        "R-squared = 0.955, meaning that the MLR effectively predicts the housing price given the observations in boston_housing dataset."
      ],
      "metadata": {
        "id": "MR-lshPVLqV1"
      }
    },
    {
      "cell_type": "code",
      "source": [
        "# Check the Model Assumption: Residual by Scatter Plot\n",
        "plt.figure(figsize=(6,6))\n",
        "plt.scatter(lm_trained.fittedvalues, lm_trained.resid, c = 'blue', marker = 'o', label = 'training data')\n",
        "plt.xlabel('predicted values')\n",
        "plt.ylabel('Residual')\n",
        "plt.hlines(y=0, xmin=0, xmax=30, lw=2, color='red')\n",
        "plt.xlim([-0, 30])\n",
        "plt.title('[multiple variable - Y] Residual Analysis Picture')\n",
        "plt.legend(loc=2)\n",
        "plt.show()\n",
        "\n",
        "plt.figure()\n",
        "plt.boxplot(lm_trained.resid)\n",
        "plt.title('residual-train')\n",
        "plt.show()"
      ],
      "metadata": {
        "colab": {
          "base_uri": "https://localhost:8080/",
          "height": 668
        },
        "id": "HfvKZFShL-0B",
        "outputId": "76dcd9e6-3c1b-4db9-afd3-5d25c329dba8"
      },
      "execution_count": 105,
      "outputs": [
        {
          "output_type": "display_data",
          "data": {
            "text/plain": [
              "<Figure size 432x432 with 1 Axes>"
            ],
            "image/png": "[encoded data removed]"
          },
          "metadata": {
            "needs_background": "light"
          }
        },
        {
          "output_type": "display_data",
          "data": {
            "text/plain": [
              "<Figure size 432x288 with 1 Axes>"
            ],
            "image/png": "[encoded data removed]"
          },
          "metadata": {
            "needs_background": "light"
          }
        }
      ]
    },
    {
      "cell_type": "code",
      "source": [
        "# Prediction y_train\n",
        "y_pred_train = lm_trained.predict(X_train)\n",
        "\n",
        "# Prediction y_test\n",
        "y_pred_test = lm_trained.predict(X_test)"
      ],
      "metadata": {
        "id": "Z43_C1RXNk3H"
      },
      "execution_count": 106,
      "outputs": []
    },
    {
      "cell_type": "code",
      "source": [
        "plt.figure(figsize=(8, 8))\n",
        "plt.title('y_real vs. y_pred')\n",
        "plt.scatter(y_test, y_pred_test)\n",
        "plt.xlabel('real value', size = 16)\n",
        "plt.ylabel('predicted value', size = 16)\n",
        "plt.xlim(-5, 55)\n",
        "plt.ylim(-5, 55)\n",
        "plt.show()"
      ],
      "metadata": {
        "colab": {
          "base_uri": "https://localhost:8080/",
          "height": 518
        },
        "id": "mnqPP6AlOCoZ",
        "outputId": "da2b67dd-583e-4014-e58c-f1114f86c3b2"
      },
      "execution_count": 107,
      "outputs": [
        {
          "output_type": "display_data",
          "data": {
            "text/plain": [
              "<Figure size 576x576 with 1 Axes>"
            ],
            "image/png": "[encoded data removed]"
          },
          "metadata": {
            "needs_background": "light"
          }
        }
      ]
    },
    {
      "cell_type": "code",
      "source": [
        "# MSE\n",
        "print(mean_squared_error(y_test, y_pred_test))\n",
        "\n",
        "# RMSE\n",
        "print(np.sqrt(mean_squared_error(y_test, y_pred_test)))\n",
        "\n",
        "# MAE\n",
        "print(mean_absolute_error(y_test, y_pred_test))\n",
        "\n",
        "# MAPE\n",
        "print(mean_absolute_percentage_error(y_test, y_pred_test))\n",
        "\n",
        "# Correlation Coefficient\n",
        "print(np.corrcoef(y_test, y_pred_test))\n",
        "\n",
        "# R2-Score\n",
        "print(r2_score(y_test, y_pred_test))"
      ],
      "metadata": {
        "colab": {
          "base_uri": "https://localhost:8080/"
        },
        "id": "K0w28v68Ot_Q",
        "outputId": "0376a0e5-3432-4dbd-9385-5995070314db"
      },
      "execution_count": 108,
      "outputs": [
        {
          "output_type": "stream",
          "name": "stdout",
          "text": [
            "20.110173894242322\n",
            "4.484436853635284\n",
            "3.3029035420486665\n",
            "17.87895743964313\n",
            "[[1.         0.88524504]\n",
            " [0.88524504 1.        ]]\n",
            "0.7818378936954894\n"
          ]
        }
      ]
    },
    {
      "cell_type": "code",
      "source": [
        "residual_train = y_pred_train - y_train\n",
        "residual_test = y_pred_test - y_test\n",
        "print(residual_train.head(10))\n",
        "print(residual_test.head(10))"
      ],
      "metadata": {
        "colab": {
          "base_uri": "https://localhost:8080/"
        },
        "id": "Z_IJjk9TRy7-",
        "outputId": "e39513a0-d99e-43db-9c99-c25881605070"
      },
      "execution_count": 110,
      "outputs": [
        {
          "output_type": "stream",
          "name": "stdout",
          "text": [
            "99    -0.714005\n",
            "102    0.077614\n",
            "416    5.902539\n",
            "266   -0.309925\n",
            "101    0.730002\n",
            "501    3.153111\n",
            "426    2.483318\n",
            "33     2.323933\n",
            "140    2.092544\n",
            "198   -0.587668\n",
            "dtype: float64\n",
            "64    -7.016890\n",
            "100   -1.263729\n",
            "400    8.538761\n",
            "485    0.945983\n",
            "454    0.518866\n",
            "288    3.882074\n",
            "112    1.004788\n",
            "478    4.792018\n",
            "66     4.638582\n",
            "187   -0.483466\n",
            "dtype: float64\n"
          ]
        }
      ]
    },
    {
      "cell_type": "code",
      "source": [
        "# 잔차에 대한 Q-Q Plot Drawn\n",
        "stats.probplot(residual_test, dist=\"norm\", plot=pylab)\n",
        "plt.title('residual_test')\n",
        "pylab.show()"
      ],
      "metadata": {
        "colab": {
          "base_uri": "https://localhost:8080/",
          "height": 295
        },
        "id": "GUN0HMwgTQGf",
        "outputId": "ca842000-0c1b-4cfc-d43f-1cac00676cd3"
      },
      "execution_count": 112,
      "outputs": [
        {
          "output_type": "display_data",
          "data": {
            "text/plain": [
              "<Figure size 432x288 with 1 Axes>"
            ],
            "image/png": "[encoded data removed]"
          },
          "metadata": {
            "needs_background": "light"
          }
        }
      ]
    }
  ]
}