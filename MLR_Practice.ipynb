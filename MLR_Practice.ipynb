{
  "nbformat": 4,
  "nbformat_minor": 0,
  "metadata": {
    "colab": {
      "name": "MLR_Practice.ipynb",
      "provenance": [],
      "collapsed_sections": [],
      "mount_file_id": "1UR_gDlGnJKPEvoHAkqYxGU-NgNUmmf0m",
      "authorship_tag": "ABX9TyMO7v4n/RKPAsnFahNus7Ka",
      "include_colab_link": true
    },
    "kernelspec": {
      "name": "python3",
      "display_name": "Python 3"
    },
    "language_info": {
      "name": "python"
    }
  },
  "cells": [
    {
      "cell_type": "markdown",
      "metadata": {
        "id": "view-in-github",
        "colab_type": "text"
      },
      "source": [
        "<a href=\"https://colab.research.google.com/github/davidjjeong/multiple_linear_regression/blob/main/MLR_Practice.ipynb\" target=\"_parent\"><img src=\"https://colab.research.google.com/assets/colab-badge.svg\" alt=\"Open In Colab\"/></a>"
      ]
    },
    {
      "cell_type": "code",
      "source": [
        "from google.colab import drive\n",
        "drive.mount('/content/drive')"
      ],
      "metadata": {
        "colab": {
          "base_uri": "https://localhost:8080/"
        },
        "id": "MK8-tcIsHmZJ",
        "outputId": "dcf91b3d-7507-4484-c87a-c6e7c2989e51"
      },
      "execution_count": 26,
      "outputs": [
        {
          "output_type": "stream",
          "name": "stdout",
          "text": [
            "Drive already mounted at /content/drive; to attempt to forcibly remount, call drive.mount(\"/content/drive\", force_remount=True).\n"
          ]
        }
      ]
    },
    {
      "cell_type": "code",
      "execution_count": 22,
      "metadata": {
        "colab": {
          "base_uri": "https://localhost:8080/"
        },
        "id": "J00fboXy_1zc",
        "outputId": "a63d89e9-2e71-4ff1-a834-9f5d3f18b8da"
      },
      "outputs": [
        {
          "output_type": "stream",
          "name": "stdout",
          "text": [
            "Requirement already satisfied: seaborn in /usr/local/lib/python3.7/dist-packages (0.11.2)\n",
            "Requirement already satisfied: watermark in /usr/local/lib/python3.7/dist-packages (2.3.0)\n",
            "Requirement already satisfied: scipy>=1.0 in /usr/local/lib/python3.7/dist-packages (from seaborn) (1.4.1)\n",
            "Requirement already satisfied: pandas>=0.23 in /usr/local/lib/python3.7/dist-packages (from seaborn) (1.3.5)\n",
            "Requirement already satisfied: numpy>=1.15 in /usr/local/lib/python3.7/dist-packages (from seaborn) (1.21.6)\n",
            "Requirement already satisfied: matplotlib>=2.2 in /usr/local/lib/python3.7/dist-packages (from seaborn) (3.2.2)\n",
            "Requirement already satisfied: cycler>=0.10 in /usr/local/lib/python3.7/dist-packages (from matplotlib>=2.2->seaborn) (0.11.0)\n",
            "Requirement already satisfied: python-dateutil>=2.1 in /usr/local/lib/python3.7/dist-packages (from matplotlib>=2.2->seaborn) (2.8.2)\n",
            "Requirement already satisfied: pyparsing!=2.0.4,!=2.1.2,!=2.1.6,>=2.0.1 in /usr/local/lib/python3.7/dist-packages (from matplotlib>=2.2->seaborn) (3.0.8)\n",
            "Requirement already satisfied: kiwisolver>=1.0.1 in /usr/local/lib/python3.7/dist-packages (from matplotlib>=2.2->seaborn) (1.4.2)\n",
            "Requirement already satisfied: typing-extensions in /usr/local/lib/python3.7/dist-packages (from kiwisolver>=1.0.1->matplotlib>=2.2->seaborn) (4.2.0)\n",
            "Requirement already satisfied: pytz>=2017.3 in /usr/local/lib/python3.7/dist-packages (from pandas>=0.23->seaborn) (2022.1)\n",
            "Requirement already satisfied: six>=1.5 in /usr/local/lib/python3.7/dist-packages (from python-dateutil>=2.1->matplotlib>=2.2->seaborn) (1.15.0)\n",
            "Requirement already satisfied: importlib-metadata<3.0 in /usr/local/lib/python3.7/dist-packages (from watermark) (2.1.3)\n",
            "Requirement already satisfied: ipython in /usr/local/lib/python3.7/dist-packages (from watermark) (5.5.0)\n",
            "Requirement already satisfied: zipp>=0.5 in /usr/local/lib/python3.7/dist-packages (from importlib-metadata<3.0->watermark) (3.8.0)\n",
            "Requirement already satisfied: setuptools>=18.5 in /usr/local/lib/python3.7/dist-packages (from ipython->watermark) (57.4.0)\n",
            "Requirement already satisfied: pexpect in /usr/local/lib/python3.7/dist-packages (from ipython->watermark) (4.8.0)\n",
            "Requirement already satisfied: pickleshare in /usr/local/lib/python3.7/dist-packages (from ipython->watermark) (0.7.5)\n",
            "Requirement already satisfied: pygments in /usr/local/lib/python3.7/dist-packages (from ipython->watermark) (2.6.1)\n",
            "Requirement already satisfied: prompt-toolkit<2.0.0,>=1.0.4 in /usr/local/lib/python3.7/dist-packages (from ipython->watermark) (1.0.18)\n",
            "Requirement already satisfied: decorator in /usr/local/lib/python3.7/dist-packages (from ipython->watermark) (4.4.2)\n",
            "Requirement already satisfied: simplegeneric>0.8 in /usr/local/lib/python3.7/dist-packages (from ipython->watermark) (0.8.1)\n",
            "Requirement already satisfied: traitlets>=4.2 in /usr/local/lib/python3.7/dist-packages (from ipython->watermark) (5.1.1)\n",
            "Requirement already satisfied: wcwidth in /usr/local/lib/python3.7/dist-packages (from prompt-toolkit<2.0.0,>=1.0.4->ipython->watermark) (0.2.5)\n",
            "Requirement already satisfied: ptyprocess>=0.5 in /usr/local/lib/python3.7/dist-packages (from pexpect->ipython->watermark) (0.7.0)\n"
          ]
        }
      ],
      "source": [
        "! pip install seaborn watermark"
      ]
    },
    {
      "cell_type": "code",
      "source": [
        "import warnings\n",
        "warnings.filterwarnings('ignore')"
      ],
      "metadata": {
        "id": "snKL12dZDB5Z"
      },
      "execution_count": null,
      "outputs": []
    },
    {
      "cell_type": "code",
      "source": [
        "import os\n",
        "import pandas as pd\n",
        "import numpy as np\n",
        "from sklearn.model_selection import train_test_split\n",
        "from sklearn import metrics\n",
        "import scipy.stats as stats\n",
        "import itertools\n",
        "import time\n",
        "import matplotlib.pyplot as plt\n",
        "import statsmodels.api as sm\n",
        "import seaborn as sns\n",
        "import pylab"
      ],
      "metadata": {
        "id": "fNj3pSkqDk-m"
      },
      "execution_count": 28,
      "outputs": []
    },
    {
      "cell_type": "markdown",
      "source": [
        "**Practice Example 1: Ram Price Dataset**\n",
        "\n",
        "Data Structure:\n",
        "\n",
        "* Data: Change in Ram Price from 1957 to 2015\n",
        "* Observations: 333\n",
        "* Explanatory Variable: Year\n",
        "* Response Variable: Price\n",
        "\n"
      ],
      "metadata": {
        "id": "YskPLe37Ete_"
      }
    },
    {
      "cell_type": "code",
      "source": [
        "# Load ram_prices data\n",
        "ram_prices = pd.read_csv('/content/drive/MyDrive/MLR/data/ram_price.csv')\n",
        "print(ram_prices)\n",
        "type(ram_prices)\n",
        "\n",
        "# Plot the observations in the data, with log scaling on the y-axis\n",
        "plt.semilogy(ram_prices.date, ram_prices.price)\n",
        "plt.xlabel(\"Year\")\n",
        "plt.ylabel(\"Ram Price($ per Megabyte)\")"
      ],
      "metadata": {
        "colab": {
          "base_uri": "https://localhost:8080/",
          "height": 554
        },
        "id": "nQhorw_rE6DX",
        "outputId": "3d7466e6-bb34-4802-9541-965c20e79cef"
      },
      "execution_count": 40,
      "outputs": [
        {
          "output_type": "stream",
          "name": "stdout",
          "text": [
            "     Unnamed: 0     date         price\n",
            "0             0  1957.00  4.110418e+08\n",
            "1             1  1959.00  6.794772e+07\n",
            "2             2  1960.00  5.242880e+06\n",
            "3             3  1965.00  2.642412e+06\n",
            "4             4  1970.00  7.340030e+05\n",
            "..          ...      ...           ...\n",
            "328         328  2015.58  4.500000e-03\n",
            "329         329  2015.67  4.300000e-03\n",
            "330         330  2015.75  4.200000e-03\n",
            "331         331  2015.83  3.800000e-03\n",
            "332         332  2015.92  3.700000e-03\n",
            "\n",
            "[333 rows x 3 columns]\n"
          ]
        },
        {
          "output_type": "execute_result",
          "data": {
            "text/plain": [
              "Text(0, 0.5, 'Ram Price($ per Megabyte)')"
            ]
          },
          "metadata": {},
          "execution_count": 40
        },
        {
          "output_type": "display_data",
          "data": {
            "text/plain": [
              "<Figure size 432x288 with 1 Axes>"
            ],
            "image/png": "[encoded data removed]"
          },
          "metadata": {
            "needs_background": "light"
          }
        }
      ]
    },
    {
      "cell_type": "code",
      "source": [
        "plt.plot(ram_prices.date, ram_prices.price, '--')\n",
        "plt.xlabel(\"Year\")\n",
        "plt.ylabel(\"Raw Ram Price\")"
      ],
      "metadata": {
        "colab": {
          "base_uri": "https://localhost:8080/",
          "height": 308
        },
        "id": "k05-x--uKpqp",
        "outputId": "ff8b7cdc-c0fd-435e-bb19-b6528fe36797"
      },
      "execution_count": 42,
      "outputs": [
        {
          "output_type": "execute_result",
          "data": {
            "text/plain": [
              "Text(0, 0.5, 'Raw Ram Price')"
            ]
          },
          "metadata": {},
          "execution_count": 42
        },
        {
          "output_type": "display_data",
          "data": {
            "text/plain": [
              "<Figure size 432x288 with 1 Axes>"
            ],
            "image/png": "[encoded data removed]"
          },
          "metadata": {
            "needs_background": "light"
          }
        }
      ]
    },
    {
      "cell_type": "code",
      "source": [
        "from sklearn.linear_model import LinearRegression"
      ],
      "metadata": {
        "id": "9qtpuVxmMdxb"
      },
      "execution_count": 44,
      "outputs": []
    },
    {
      "cell_type": "code",
      "source": [
        "# Training: Before 2000\n",
        "# Test: After 2000\n",
        "data_train = ram_prices[ram_prices.date < 2000]\n",
        "data_test = ram_prices[ram_prices.date >= 2000]\n",
        "\n",
        "# Only use date for X variable, and slice the vector\n",
        "X_train = data_train.date[:, np.newaxis]\n",
        "\n",
        "# Change y to log scale to create a linear relationship between X and Y\n",
        "y_train = np.log(data_train.price)\n",
        "\n",
        "# Train the MLR model\n",
        "linear_reg = LinearRegression().fit(X_train, y_train)\n",
        "\n",
        "# Predict for all periods from 1957 to 2015\n",
        "X_all = ram_prices.date[:, np.newaxis]\n",
        "\n",
        "pred_lr = linear_reg.predict(X_all)\n",
        "\n",
        "# Change from log scale to real raw price\n",
        "price_lr = np.exp(pred_lr)"
      ],
      "metadata": {
        "id": "de9oGKG6Mie7"
      },
      "execution_count": 58,
      "outputs": []
    },
    {
      "cell_type": "code",
      "source": [
        "plt.semilogy(data_train.date, data_train.price, label=\"Training Data\")\n",
        "plt.semilogy(data_test.date, data_test.price, label=\"Test Data\")\n",
        "plt.semilogy(ram_prices.date, price_lr, label=\"Linear Regression Prediction\")\n",
        "plt.legend()\n",
        "plt.xlabel(\"Year\")\n",
        "plt.ylabel(\"Ram Price in Log Scale\")"
      ],
      "metadata": {
        "colab": {
          "base_uri": "https://localhost:8080/",
          "height": 297
        },
        "id": "DY_jxWJ1QVgg",
        "outputId": "f7ab3501-89da-46db-8dff-9c8ce4d57f92"
      },
      "execution_count": 60,
      "outputs": [
        {
          "output_type": "execute_result",
          "data": {
            "text/plain": [
              "Text(0, 0.5, 'Ram Price in Log Scale')"
            ]
          },
          "metadata": {},
          "execution_count": 60
        },
        {
          "output_type": "display_data",
          "data": {
            "text/plain": [
              "<Figure size 432x288 with 1 Axes>"
            ],
            "image/png": "[encoded data removed]"
          },
          "metadata": {
            "needs_background": "light"
          }
        }
      ]
    },
    {
      "cell_type": "code",
      "source": [
        "# Check Linear Reg Coefficient\n",
        "linear_reg.coef_\n",
        "print('연도에 따른 회귀계수 (로그변환): ', linear_reg.coef_)"
      ],
      "metadata": {
        "colab": {
          "base_uri": "https://localhost:8080/"
        },
        "id": "-QSTVLw3RLxX",
        "outputId": "76420724-f878-49ba-c6e0-4e8e96e817bf"
      },
      "execution_count": 63,
      "outputs": [
        {
          "output_type": "stream",
          "name": "stdout",
          "text": [
            "연도에 따른 회귀계수 (로그변환):  [-0.42880156]\n"
          ]
        }
      ]
    }
  ]
}